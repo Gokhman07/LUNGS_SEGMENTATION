{
  "cells": [
    {
      "cell_type": "markdown",
      "metadata": {
        "id": "009e8fc2"
      },
      "source": [
        "# 1. Build an image segmentation model using pytorch"
      ],
      "id": "009e8fc2"
    },
    {
      "cell_type": "markdown",
      "metadata": {
        "id": "MvUMg35zuF8d"
      },
      "source": [
        "Library import"
      ],
      "id": "MvUMg35zuF8d"
    },
    {
      "cell_type": "code",
      "execution_count": 1,
      "metadata": {
        "id": "133be475"
      },
      "outputs": [],
      "source": [
        "import os\n",
        "import cv2\n",
        "import matplotlib.pyplot as plt\n",
        "import numpy as np\n",
        "import pandas as pd\n",
        "import time\n",
        "from glob import glob\n",
        "from sklearn.model_selection import train_test_split"
      ],
      "id": "133be475"
    },
    {
      "cell_type": "code",
      "execution_count": 2,
      "metadata": {
        "id": "JgdGM5DbPlgj"
      },
      "outputs": [],
      "source": [
        "import torch.nn as nn\n",
        "import torch\n",
        "from torch.utils.data import Dataset, DataLoader, Dataset\n",
        "from torchvision.datasets import ImageFolder\n",
        "import matplotlib.pyplot as plt\n",
        "from torchvision import transforms as T\n",
        "from glob import glob\n",
        "from PIL import Image\n",
        "import numpy as np\n",
        "from PIL import Image\n",
        "import pandas as pd\n",
        "import os"
      ],
      "id": "JgdGM5DbPlgj"
    },
    {
      "cell_type": "code",
      "execution_count": 3,
      "metadata": {
        "id": "-0kjdIRPucJM"
      },
      "outputs": [],
      "source": [
        "import torchvision\n",
        "import torchvision.datasets as datasets\n",
        "from torchvision import models"
      ],
      "id": "-0kjdIRPucJM"
    },
    {
      "cell_type": "code",
      "execution_count": 4,
      "metadata": {
        "id": "G2Z18AIkK0KP"
      },
      "outputs": [],
      "source": [
        "class SegmentationNet(nn.Module):\n",
        "    def __init__(self):\n",
        "        super(SegmentationNet, self).__init__()\n",
        "        \n",
        "       #Encoder\n",
        "        \n",
        "        resnet=models.resnet101(pretrained=True)\n",
        "        self.encoder=nn.Sequential(*list(resnet.children())[:-2])\n",
        "        \n",
        "     \n",
        "        #Decoder \n",
        "        \n",
        "     \n",
        "        self.conv5=nn.Conv2d(in_channels=64, out_channels=64, kernel_size=3, stride=1, padding=1)\n",
        "        self.norm5=    nn.BatchNorm2d(64)\n",
        "        self.relu5=  nn.ReLU()\n",
        "        self.conv6=   nn.Conv2d(in_channels=64, out_channels=64, kernel_size=3, stride=1, padding=1)\n",
        "        self.norm6 =  nn.BatchNorm2d(64)\n",
        "        self.relu6  =  nn.ReLU()\n",
        "        self.convTrans4 = nn.ConvTranspose2d(in_channels=64, out_channels=64, kernel_size=3, stride=2, padding=1, output_padding=1)\n",
        "        \n",
        "        self.conv7=    nn.Conv2d(in_channels=64, out_channels=32, kernel_size=3, stride=1, padding=1)\n",
        "        self.norm7=  nn.BatchNorm2d(32)\n",
        "        self.relu7=    nn.ReLU()\n",
        "        self.conv8=    nn.Conv2d(in_channels=32, out_channels=32, kernel_size=3, stride=1, padding=1)\n",
        "        self.norm8=  nn.BatchNorm2d(32)\n",
        "        self.relu8=   nn.ReLU()\n",
        "      \n",
        "        self.convTrans5 = nn.ConvTranspose2d(in_channels=32, out_channels=32, kernel_size=3, stride=2, padding=1, output_padding=1)\n",
        "        \n",
        "        #Segmentation\n",
        "\n",
        "        self.conv9=nn.Conv2d(in_channels=32, out_channels=8, kernel_size=1, stride=1, padding=0)\n",
        "        self.norm9=  nn.BatchNorm2d(8)\n",
        "        self.relu9= nn.ReLU()\n",
        "        self.conv10=  nn.Conv2d(in_channels=8, out_channels=2, kernel_size=1, stride=1, padding=0)\n",
        "        self.norm10=  nn.BatchNorm2d(2)\n",
        "        self.relu10  = nn.ReLU()\n",
        "\n",
        "        \n",
        "    def forward(self, x): \n",
        "        \n",
        "        \n",
        "       #Encoder\n",
        "        \n",
        "        x=self.encoder[0](x)\n",
        "        x=self.encoder[1](x)\n",
        "        x=self.encoder[2](x)\n",
        "        x=self.encoder[3](x)\n",
        "\n",
        "        #Decoder \n",
        "        \n",
        "     \n",
        "        x=self.conv5(x)\n",
        "        x=self.norm5(x)\n",
        "        x=self.relu5(x)\n",
        "        x=self.conv6(x)\n",
        "        x=self.norm6(x)\n",
        "        x=self.relu6(x)\n",
        "        x=self.convTrans4(x)\n",
        "        \n",
        "        x=self.conv7(x)\n",
        "        x=self.norm7(x)\n",
        "        x=self.relu7(x)\n",
        "        x=self.conv8(x)\n",
        "        x=self.norm8(x)\n",
        "        x=self.relu8(x)\n",
        "      \n",
        "        x=self.convTrans5(x)\n",
        "        \n",
        "        #Segmentation\n",
        "\n",
        "        x=self.conv9(x)\n",
        "        x=self.norm9(x)\n",
        "        x=self.relu9(x)\n",
        "        x=self.conv10(x)\n",
        "        x=self.norm10(x)\n",
        "        x=self.relu10(x)\n",
        "        \n",
        "\n",
        "        return x"
      ],
      "id": "G2Z18AIkK0KP"
    },
    {
      "cell_type": "code",
      "execution_count": 5,
      "metadata": {
        "id": "_Az4rrj-K65U"
      },
      "outputs": [],
      "source": [
        "device='cuda' if torch.cuda.is_available() else 'cpu'"
      ],
      "id": "_Az4rrj-K65U"
    },
    {
      "cell_type": "markdown",
      "metadata": {
        "id": "a0c45b84"
      },
      "source": [
        "# 2. Train your model using [lung segmentation datasets](https://github.com/YoushanZhang/Lung_Segmentation)"
      ],
      "id": "a0c45b84"
    },
    {
      "cell_type": "markdown",
      "metadata": {
        "id": "DS8ISoM7Lwud"
      },
      "source": [
        "# Load Data"
      ],
      "id": "DS8ISoM7Lwud"
    },
    {
      "cell_type": "code",
      "execution_count": 6,
      "metadata": {
        "id": "I8NWTAOMMHnZ",
        "colab": {
          "base_uri": "https://localhost:8080/"
        },
        "outputId": "18a810ee-aac3-46fd-da0e-0f4f65507815"
      },
      "outputs": [
        {
          "output_type": "stream",
          "name": "stdout",
          "text": [
            "Mounted at /content/drive\n"
          ]
        }
      ],
      "source": [
        "from google.colab import drive\n",
        "drive.mount('/content/drive')"
      ],
      "id": "I8NWTAOMMHnZ"
    },
    {
      "cell_type": "code",
      "execution_count": 7,
      "metadata": {
        "id": "50effdac"
      },
      "outputs": [],
      "source": [
        "train_data_path = r\"/content/drive/MyDrive/Datasets/YU/Lung_segmentation/Train\"\n",
        "test_data_path = r\"/content/drive/MyDrive/Datasets/YU/Lung_segmentation/Test\""
      ],
      "id": "50effdac"
    },
    {
      "cell_type": "code",
      "execution_count": 8,
      "metadata": {
        "id": "yhtKU913PIuy"
      },
      "outputs": [],
      "source": [
        "img_size=(256,256)"
      ],
      "id": "yhtKU913PIuy"
    },
    {
      "cell_type": "code",
      "execution_count": 9,
      "metadata": {
        "id": "zfShS83-P1_t"
      },
      "outputs": [],
      "source": [
        "from torchvision.transforms import Compose, Resize, ToTensor, Normalize,ToPILImage\n"
      ],
      "id": "zfShS83-P1_t"
    },
    {
      "cell_type": "code",
      "execution_count": 10,
      "metadata": {
        "id": "RClZ_Ze_OC9E"
      },
      "outputs": [],
      "source": [
        "img_transform = Compose([ToPILImage(),\n",
        "                                    Resize(img_size),\n",
        "                                    ToTensor(),\n",
        "                                    Normalize((0.485, 0.456, 0.406), (0.229, 0.224, 0.225))])"
      ],
      "id": "RClZ_Ze_OC9E"
    },
    {
      "cell_type": "code",
      "execution_count": 11,
      "metadata": {
        "id": "cB3hD766Pv9z"
      },
      "outputs": [],
      "source": [
        "pin_memory=True"
      ],
      "id": "cB3hD766Pv9z"
    },
    {
      "cell_type": "code",
      "execution_count": 12,
      "metadata": {
        "id": "YtB6bGg7Qp03"
      },
      "outputs": [],
      "source": [
        "TRAIN_BATCH_SIZE=16"
      ],
      "id": "YtB6bGg7Qp03"
    },
    {
      "cell_type": "code",
      "execution_count": 13,
      "metadata": {
        "id": "V9SjfRx_QsEF"
      },
      "outputs": [],
      "source": [
        "TEST_BATCH_SIZE=8"
      ],
      "id": "V9SjfRx_QsEF"
    },
    {
      "cell_type": "code",
      "execution_count": 14,
      "metadata": {
        "id": "9fjOm3JYPb1C"
      },
      "outputs": [],
      "source": [
        "from torchvision.transforms import Compose\n"
      ],
      "id": "9fjOm3JYPb1C"
    },
    {
      "cell_type": "code",
      "execution_count": 15,
      "metadata": {
        "id": "xpiWHcnf-vQA"
      },
      "outputs": [],
      "source": [
        "def import_folder_dataset(root_path, resized_size):\n",
        "    # Initialize empty lists for images, masks, and binary masks\n",
        "    image_list = []\n",
        "    mask_list = []\n",
        "    binary_mask_list = []\n",
        "\n",
        "    # Build the paths for the images and masks directories\n",
        "    image_dir = os.path.join(root_path, \"Images\")\n",
        "    mask_dir = os.path.join(root_path, \"Masks\")\n",
        "\n",
        "    # List all the image names in the images directory\n",
        "    image_names = os.listdir(image_dir)\n",
        "\n",
        "    # Loop over all the images and corresponding masks\n",
        "    for image_name in image_names:\n",
        "        # Build the paths for the image and the corresponding mask\n",
        "        image_path = os.path.join(image_dir, image_name)\n",
        "        mask_path = os.path.join(mask_dir, image_name)\n",
        "\n",
        "        # Load the image and mask\n",
        "        image = cv2.imread(image_path)\n",
        "        mask = cv2.imread(mask_path)\n",
        "\n",
        "        # Resize the image and mask to the specified size\n",
        "        image = cv2.resize(image, resized_size)\n",
        "        mask = cv2.resize(mask, resized_size)\n",
        "\n",
        "        # Convert the mask to a binary mask\n",
        "        binary_mask = cv2.cvtColor(mask, cv2.COLOR_BGR2GRAY)\n",
        "        binary_mask = (binary_mask / 255).astype(np.uint8)\n",
        "\n",
        "        # Add the image and masks to their respective lists\n",
        "        image_list.append(image)\n",
        "        mask_list.append(mask)\n",
        "        binary_mask_list.append(binary_mask)\n",
        "\n",
        "    # Convert the lists to numpy arrays and return them\n",
        "    return np.array(image_list), np.array(mask_list), np.array(binary_mask_list)\n"
      ],
      "id": "xpiWHcnf-vQA"
    },
    {
      "cell_type": "code",
      "execution_count": 16,
      "metadata": {
        "id": "bIPHcLlv-6oX"
      },
      "outputs": [],
      "source": [
        "class Data(Dataset):\n",
        "    def __init__(self, X_element, m_element, y_element, transform):\n",
        "        # Save images\n",
        "        self.X = X_element\n",
        "        # Save mask images\n",
        "        self.m = m_element\n",
        "        # Save segmentation classes\n",
        "        self.y = torch.from_numpy(y_element).type(torch.LongTensor)\n",
        "        \n",
        "        self.transform = transform\n",
        "    def __len__(self):\n",
        "        return self.X.shape[0]\n",
        "    \n",
        "    def __getitem__(self, index):\n",
        "        \n",
        "        item = self.X[index]\n",
        "        item = self.transform(item)\n",
        "        \n",
        "        return item, self.m[index], self.y[index]\n",
        "\n",
        "\n"
      ],
      "id": "bIPHcLlv-6oX"
    },
    {
      "cell_type": "code",
      "source": [
        "def calculate_IOU(pred, label):\n",
        "    # Flatten the predictions and labels tensors\n",
        "    pred = pred.view(pred.size(0), -1)\n",
        "    label = label.view(label.size(0), -1)\n",
        "\n",
        "    # Calculate the intersection and union\n",
        "    intersection = (pred * label).sum(dim=1)\n",
        "    union = pred.sum(dim=1) + label.sum(dim=1) - intersection\n",
        "\n",
        "    # Calculate the IOU\n",
        "    iou = intersection / union.clamp(min=1e-8)\n",
        "\n",
        "    return iou"
      ],
      "metadata": {
        "id": "bpnHRumUqsbA"
      },
      "id": "bpnHRumUqsbA",
      "execution_count": 17,
      "outputs": []
    },
    {
      "cell_type": "code",
      "source": [
        "def calculate_Dice(pred, label):\n",
        "    # Flatten the predictions and labels tensors\n",
        "    pred = pred.view(pred.size(0), -1)\n",
        "    label = label.view(label.size(0), -1)\n",
        "\n",
        "    # Calculate the intersection and union\n",
        "    intersection = (pred * label).sum(dim=1)\n",
        "    union = pred.sum(dim=1) + label.sum(dim=1)\n",
        "\n",
        "    # Calculate the Dice coefficient\n",
        "    dice = 2 * intersection / union.clamp(min=1e-8)\n",
        "\n",
        "    return dice"
      ],
      "metadata": {
        "id": "31dRjwz2qvkE"
      },
      "id": "31dRjwz2qvkE",
      "execution_count": 18,
      "outputs": []
    },
    {
      "cell_type": "code",
      "execution_count": 55,
      "metadata": {
        "id": "zzgG6d51_CpY"
      },
      "outputs": [],
      "source": [
        "def predict(loader, model, inv_transform, device):\n",
        "    model.eval()\n",
        "\n",
        "    image_list = []\n",
        "    target_mask_list = []\n",
        "    predicted_mask_list = []\n",
        "    accumulated_iou = 0\n",
        "    accumulated_dice = 0\n",
        "    total = 0\n",
        "    with torch.no_grad():\n",
        "        for bi, data in enumerate(loader):\n",
        "\n",
        "            # Use the model to get predictions\n",
        "            images = data[0].to(device)\n",
        "            target_masks = data[2].to(device)\n",
        "            outputs = model(images)\n",
        "\n",
        "            # Calculate IoU and Dice\n",
        "            predicted_masks = torch.argmax(outputs, dim=1)\n",
        "            total += target_masks.size(0)\n",
        "\n",
        "            iou = calculate_IOU(predicted_masks, target_masks)\n",
        "            accumulated_iou += iou.sum().item()\n",
        "\n",
        "            dice = calculate_Dice(predicted_masks, target_masks)\n",
        "            accumulated_dice += dice.sum().item()\n",
        "\n",
        "            # Invert the image transformation and reorder to an image format\n",
        "            image = np.moveaxis(inv_transform(data[0][0]).numpy(), 0, -1)\n",
        "\n",
        "            image_list.append(image)\n",
        "            target_mask_list.append(data[2][0].detach().cpu().numpy())\n",
        "            predicted_mask_list.append(predicted_masks[0].detach().cpu().numpy())\n",
        "\n",
        "    mean_iou = accumulated_iou / total\n",
        "    mean_dice = accumulated_dice / total\n",
        "    return mean_iou, mean_dice, image_list, target_mask_list, predicted_mask_list\n"
      ],
      "id": "zzgG6d51_CpY"
    },
    {
      "cell_type": "code",
      "execution_count": 20,
      "metadata": {
        "id": "b0WHHlZkCUe_"
      },
      "outputs": [],
      "source": [
        "img_transform = Compose([ToPILImage(),\n",
        "                                    Resize(img_size),\n",
        "                                    ToTensor(),\n",
        "                                    Normalize((0.485, 0.456, 0.406), (0.229, 0.224, 0.225))])"
      ],
      "id": "b0WHHlZkCUe_"
    },
    {
      "cell_type": "code",
      "execution_count": 22,
      "metadata": {
        "id": "Uxje9aCS_OmY",
        "colab": {
          "base_uri": "https://localhost:8080/"
        },
        "outputId": "d3bf3952-ef44-481f-cf8f-f62fc45331df"
      },
      "outputs": [
        {
          "output_type": "stream",
          "name": "stdout",
          "text": [
            "Dim of Data:  (800, 256, 256, 3)\n",
            "Dim of Mask:  (800, 256, 256, 3)\n",
            "Dim of Lables:  (800, 256, 256)\n"
          ]
        }
      ],
      "source": [
        "train_data, train_mask, train_labels = import_folder_dataset(root_path = train_data_path, resized_size = img_size)\n",
        "\n",
        "print(\"Dim of Data: \", train_data.shape)\n",
        "print(\"Dim of Mask: \", train_mask.shape)\n",
        "print(\"Dim of Lables: \", train_labels.shape)"
      ],
      "id": "Uxje9aCS_OmY"
    },
    {
      "cell_type": "code",
      "execution_count": 23,
      "metadata": {
        "id": "Zv_9m-mRASPh"
      },
      "outputs": [],
      "source": [
        "X_train, X_val, m_train, m_val, y_train, y_val = train_test_split(train_data, train_mask, train_labels, test_size=0.1, random_state=42)"
      ],
      "id": "Zv_9m-mRASPh"
    },
    {
      "cell_type": "markdown",
      "source": [
        "Split on train and validation data"
      ],
      "metadata": {
        "id": "UAFd00Hb1lbb"
      },
      "id": "UAFd00Hb1lbb"
    },
    {
      "cell_type": "code",
      "execution_count": 24,
      "metadata": {
        "id": "iOhzcl39AN8D",
        "colab": {
          "base_uri": "https://localhost:8080/"
        },
        "outputId": "f4cdc702-4dad-4fcc-87d4-58c40dcd43e0"
      },
      "outputs": [
        {
          "output_type": "stream",
          "name": "stdout",
          "text": [
            "Train len:  720\n",
            "Val len:  80\n"
          ]
        }
      ],
      "source": [
        "train_Dataset = Data(X_train, m_train, y_train, img_transform) \n",
        "val_Dataset = Data(X_val, m_val, y_val, img_transform)\n",
        "\n",
        "print(\"Train len: \",len(train_Dataset))\n",
        "print(\"Val len: \",len(val_Dataset))"
      ],
      "id": "iOhzcl39AN8D"
    },
    {
      "cell_type": "markdown",
      "source": [
        "Create the data loadera"
      ],
      "metadata": {
        "id": "cU9dX5Md4tBI"
      },
      "id": "cU9dX5Md4tBI"
    },
    {
      "cell_type": "code",
      "execution_count": 25,
      "metadata": {
        "id": "fq1xPS2_AZgs"
      },
      "outputs": [],
      "source": [
        "train_dl = DataLoader(\n",
        "    train_Dataset, \n",
        "    batch_size=TRAIN_BATCH_SIZE,             \n",
        "    shuffle=True)\n",
        "\n",
        "valid_dl = DataLoader(\n",
        "    val_Dataset, \n",
        "    batch_size=TEST_BATCH_SIZE,\n",
        "    shuffle=False\n",
        "    )"
      ],
      "id": "fq1xPS2_AZgs"
    },
    {
      "cell_type": "markdown",
      "source": [
        "Create the dataloaders"
      ],
      "metadata": {
        "id": "LldAMm-wuphN"
      },
      "id": "LldAMm-wuphN"
    },
    {
      "cell_type": "code",
      "execution_count": 26,
      "metadata": {
        "id": "elfnJVhcTYFm"
      },
      "outputs": [],
      "source": [
        "train_loader = DataLoader(train_dl, batch_size=TRAIN_BATCH_SIZE, shuffle=True)\n",
        "\n",
        "valid_loader = DataLoader(valid_dl, batch_size=TEST_BATCH_SIZE,shuffle=False)"
      ],
      "id": "elfnJVhcTYFm"
    },
    {
      "cell_type": "markdown",
      "metadata": {
        "id": "WZtv0PkYTyub"
      },
      "source": [
        "# Set model parametes"
      ],
      "id": "WZtv0PkYTyub"
    },
    {
      "cell_type": "code",
      "execution_count": 36,
      "metadata": {
        "id": "BLVSmb55TxBT",
        "colab": {
          "base_uri": "https://localhost:8080/"
        },
        "outputId": "7920d345-f995-429f-e240-4f7a2525df3b"
      },
      "outputs": [
        {
          "output_type": "stream",
          "name": "stderr",
          "text": [
            "/usr/local/lib/python3.10/dist-packages/torchvision/models/_utils.py:208: UserWarning: The parameter 'pretrained' is deprecated since 0.13 and may be removed in the future, please use 'weights' instead.\n",
            "  warnings.warn(\n",
            "/usr/local/lib/python3.10/dist-packages/torchvision/models/_utils.py:223: UserWarning: Arguments other than a weight enum or `None` for 'weights' are deprecated since 0.13 and may be removed in the future. The current behavior is equivalent to passing `weights=ResNet101_Weights.IMAGENET1K_V1`. You can also use `weights=ResNet101_Weights.DEFAULT` to get the most up-to-date weights.\n",
            "  warnings.warn(msg)\n"
          ]
        }
      ],
      "source": [
        "model=SegmentationNet().to(device)"
      ],
      "id": "BLVSmb55TxBT"
    },
    {
      "cell_type": "code",
      "execution_count": 37,
      "metadata": {
        "id": "M37VxVerVkrT"
      },
      "outputs": [],
      "source": [
        "criterion=nn.CrossEntropyLoss()"
      ],
      "id": "M37VxVerVkrT"
    },
    {
      "cell_type": "code",
      "execution_count": 38,
      "metadata": {
        "id": "v_hdLPLKVqt2"
      },
      "outputs": [],
      "source": [
        "parameters=filter(lambda p: p.requires_grad,model.parameters())"
      ],
      "id": "v_hdLPLKVqt2"
    },
    {
      "cell_type": "code",
      "execution_count": 39,
      "metadata": {
        "id": "5WA5T21BWW75"
      },
      "outputs": [],
      "source": [
        "lr=0.01"
      ],
      "id": "5WA5T21BWW75"
    },
    {
      "cell_type": "code",
      "execution_count": 40,
      "metadata": {
        "id": "ezBhecl3WBu_"
      },
      "outputs": [],
      "source": [
        "optim=torch.optim.Adam(parameters,lr=lr)"
      ],
      "id": "ezBhecl3WBu_"
    },
    {
      "cell_type": "code",
      "execution_count": 41,
      "metadata": {
        "id": "FseFwC4_WhES",
        "colab": {
          "base_uri": "https://localhost:8080/"
        },
        "outputId": "1d469980-b5d7-497b-e3fa-6ee8434ee34f"
      },
      "outputs": [
        {
          "output_type": "execute_result",
          "data": {
            "text/plain": [
              "SegmentationNet(\n",
              "  (encoder): Sequential(\n",
              "    (0): Conv2d(3, 64, kernel_size=(7, 7), stride=(2, 2), padding=(3, 3), bias=False)\n",
              "    (1): BatchNorm2d(64, eps=1e-05, momentum=0.1, affine=True, track_running_stats=True)\n",
              "    (2): ReLU(inplace=True)\n",
              "    (3): MaxPool2d(kernel_size=3, stride=2, padding=1, dilation=1, ceil_mode=False)\n",
              "    (4): Sequential(\n",
              "      (0): Bottleneck(\n",
              "        (conv1): Conv2d(64, 64, kernel_size=(1, 1), stride=(1, 1), bias=False)\n",
              "        (bn1): BatchNorm2d(64, eps=1e-05, momentum=0.1, affine=True, track_running_stats=True)\n",
              "        (conv2): Conv2d(64, 64, kernel_size=(3, 3), stride=(1, 1), padding=(1, 1), bias=False)\n",
              "        (bn2): BatchNorm2d(64, eps=1e-05, momentum=0.1, affine=True, track_running_stats=True)\n",
              "        (conv3): Conv2d(64, 256, kernel_size=(1, 1), stride=(1, 1), bias=False)\n",
              "        (bn3): BatchNorm2d(256, eps=1e-05, momentum=0.1, affine=True, track_running_stats=True)\n",
              "        (relu): ReLU(inplace=True)\n",
              "        (downsample): Sequential(\n",
              "          (0): Conv2d(64, 256, kernel_size=(1, 1), stride=(1, 1), bias=False)\n",
              "          (1): BatchNorm2d(256, eps=1e-05, momentum=0.1, affine=True, track_running_stats=True)\n",
              "        )\n",
              "      )\n",
              "      (1): Bottleneck(\n",
              "        (conv1): Conv2d(256, 64, kernel_size=(1, 1), stride=(1, 1), bias=False)\n",
              "        (bn1): BatchNorm2d(64, eps=1e-05, momentum=0.1, affine=True, track_running_stats=True)\n",
              "        (conv2): Conv2d(64, 64, kernel_size=(3, 3), stride=(1, 1), padding=(1, 1), bias=False)\n",
              "        (bn2): BatchNorm2d(64, eps=1e-05, momentum=0.1, affine=True, track_running_stats=True)\n",
              "        (conv3): Conv2d(64, 256, kernel_size=(1, 1), stride=(1, 1), bias=False)\n",
              "        (bn3): BatchNorm2d(256, eps=1e-05, momentum=0.1, affine=True, track_running_stats=True)\n",
              "        (relu): ReLU(inplace=True)\n",
              "      )\n",
              "      (2): Bottleneck(\n",
              "        (conv1): Conv2d(256, 64, kernel_size=(1, 1), stride=(1, 1), bias=False)\n",
              "        (bn1): BatchNorm2d(64, eps=1e-05, momentum=0.1, affine=True, track_running_stats=True)\n",
              "        (conv2): Conv2d(64, 64, kernel_size=(3, 3), stride=(1, 1), padding=(1, 1), bias=False)\n",
              "        (bn2): BatchNorm2d(64, eps=1e-05, momentum=0.1, affine=True, track_running_stats=True)\n",
              "        (conv3): Conv2d(64, 256, kernel_size=(1, 1), stride=(1, 1), bias=False)\n",
              "        (bn3): BatchNorm2d(256, eps=1e-05, momentum=0.1, affine=True, track_running_stats=True)\n",
              "        (relu): ReLU(inplace=True)\n",
              "      )\n",
              "    )\n",
              "    (5): Sequential(\n",
              "      (0): Bottleneck(\n",
              "        (conv1): Conv2d(256, 128, kernel_size=(1, 1), stride=(1, 1), bias=False)\n",
              "        (bn1): BatchNorm2d(128, eps=1e-05, momentum=0.1, affine=True, track_running_stats=True)\n",
              "        (conv2): Conv2d(128, 128, kernel_size=(3, 3), stride=(2, 2), padding=(1, 1), bias=False)\n",
              "        (bn2): BatchNorm2d(128, eps=1e-05, momentum=0.1, affine=True, track_running_stats=True)\n",
              "        (conv3): Conv2d(128, 512, kernel_size=(1, 1), stride=(1, 1), bias=False)\n",
              "        (bn3): BatchNorm2d(512, eps=1e-05, momentum=0.1, affine=True, track_running_stats=True)\n",
              "        (relu): ReLU(inplace=True)\n",
              "        (downsample): Sequential(\n",
              "          (0): Conv2d(256, 512, kernel_size=(1, 1), stride=(2, 2), bias=False)\n",
              "          (1): BatchNorm2d(512, eps=1e-05, momentum=0.1, affine=True, track_running_stats=True)\n",
              "        )\n",
              "      )\n",
              "      (1): Bottleneck(\n",
              "        (conv1): Conv2d(512, 128, kernel_size=(1, 1), stride=(1, 1), bias=False)\n",
              "        (bn1): BatchNorm2d(128, eps=1e-05, momentum=0.1, affine=True, track_running_stats=True)\n",
              "        (conv2): Conv2d(128, 128, kernel_size=(3, 3), stride=(1, 1), padding=(1, 1), bias=False)\n",
              "        (bn2): BatchNorm2d(128, eps=1e-05, momentum=0.1, affine=True, track_running_stats=True)\n",
              "        (conv3): Conv2d(128, 512, kernel_size=(1, 1), stride=(1, 1), bias=False)\n",
              "        (bn3): BatchNorm2d(512, eps=1e-05, momentum=0.1, affine=True, track_running_stats=True)\n",
              "        (relu): ReLU(inplace=True)\n",
              "      )\n",
              "      (2): Bottleneck(\n",
              "        (conv1): Conv2d(512, 128, kernel_size=(1, 1), stride=(1, 1), bias=False)\n",
              "        (bn1): BatchNorm2d(128, eps=1e-05, momentum=0.1, affine=True, track_running_stats=True)\n",
              "        (conv2): Conv2d(128, 128, kernel_size=(3, 3), stride=(1, 1), padding=(1, 1), bias=False)\n",
              "        (bn2): BatchNorm2d(128, eps=1e-05, momentum=0.1, affine=True, track_running_stats=True)\n",
              "        (conv3): Conv2d(128, 512, kernel_size=(1, 1), stride=(1, 1), bias=False)\n",
              "        (bn3): BatchNorm2d(512, eps=1e-05, momentum=0.1, affine=True, track_running_stats=True)\n",
              "        (relu): ReLU(inplace=True)\n",
              "      )\n",
              "      (3): Bottleneck(\n",
              "        (conv1): Conv2d(512, 128, kernel_size=(1, 1), stride=(1, 1), bias=False)\n",
              "        (bn1): BatchNorm2d(128, eps=1e-05, momentum=0.1, affine=True, track_running_stats=True)\n",
              "        (conv2): Conv2d(128, 128, kernel_size=(3, 3), stride=(1, 1), padding=(1, 1), bias=False)\n",
              "        (bn2): BatchNorm2d(128, eps=1e-05, momentum=0.1, affine=True, track_running_stats=True)\n",
              "        (conv3): Conv2d(128, 512, kernel_size=(1, 1), stride=(1, 1), bias=False)\n",
              "        (bn3): BatchNorm2d(512, eps=1e-05, momentum=0.1, affine=True, track_running_stats=True)\n",
              "        (relu): ReLU(inplace=True)\n",
              "      )\n",
              "    )\n",
              "    (6): Sequential(\n",
              "      (0): Bottleneck(\n",
              "        (conv1): Conv2d(512, 256, kernel_size=(1, 1), stride=(1, 1), bias=False)\n",
              "        (bn1): BatchNorm2d(256, eps=1e-05, momentum=0.1, affine=True, track_running_stats=True)\n",
              "        (conv2): Conv2d(256, 256, kernel_size=(3, 3), stride=(2, 2), padding=(1, 1), bias=False)\n",
              "        (bn2): BatchNorm2d(256, eps=1e-05, momentum=0.1, affine=True, track_running_stats=True)\n",
              "        (conv3): Conv2d(256, 1024, kernel_size=(1, 1), stride=(1, 1), bias=False)\n",
              "        (bn3): BatchNorm2d(1024, eps=1e-05, momentum=0.1, affine=True, track_running_stats=True)\n",
              "        (relu): ReLU(inplace=True)\n",
              "        (downsample): Sequential(\n",
              "          (0): Conv2d(512, 1024, kernel_size=(1, 1), stride=(2, 2), bias=False)\n",
              "          (1): BatchNorm2d(1024, eps=1e-05, momentum=0.1, affine=True, track_running_stats=True)\n",
              "        )\n",
              "      )\n",
              "      (1): Bottleneck(\n",
              "        (conv1): Conv2d(1024, 256, kernel_size=(1, 1), stride=(1, 1), bias=False)\n",
              "        (bn1): BatchNorm2d(256, eps=1e-05, momentum=0.1, affine=True, track_running_stats=True)\n",
              "        (conv2): Conv2d(256, 256, kernel_size=(3, 3), stride=(1, 1), padding=(1, 1), bias=False)\n",
              "        (bn2): BatchNorm2d(256, eps=1e-05, momentum=0.1, affine=True, track_running_stats=True)\n",
              "        (conv3): Conv2d(256, 1024, kernel_size=(1, 1), stride=(1, 1), bias=False)\n",
              "        (bn3): BatchNorm2d(1024, eps=1e-05, momentum=0.1, affine=True, track_running_stats=True)\n",
              "        (relu): ReLU(inplace=True)\n",
              "      )\n",
              "      (2): Bottleneck(\n",
              "        (conv1): Conv2d(1024, 256, kernel_size=(1, 1), stride=(1, 1), bias=False)\n",
              "        (bn1): BatchNorm2d(256, eps=1e-05, momentum=0.1, affine=True, track_running_stats=True)\n",
              "        (conv2): Conv2d(256, 256, kernel_size=(3, 3), stride=(1, 1), padding=(1, 1), bias=False)\n",
              "        (bn2): BatchNorm2d(256, eps=1e-05, momentum=0.1, affine=True, track_running_stats=True)\n",
              "        (conv3): Conv2d(256, 1024, kernel_size=(1, 1), stride=(1, 1), bias=False)\n",
              "        (bn3): BatchNorm2d(1024, eps=1e-05, momentum=0.1, affine=True, track_running_stats=True)\n",
              "        (relu): ReLU(inplace=True)\n",
              "      )\n",
              "      (3): Bottleneck(\n",
              "        (conv1): Conv2d(1024, 256, kernel_size=(1, 1), stride=(1, 1), bias=False)\n",
              "        (bn1): BatchNorm2d(256, eps=1e-05, momentum=0.1, affine=True, track_running_stats=True)\n",
              "        (conv2): Conv2d(256, 256, kernel_size=(3, 3), stride=(1, 1), padding=(1, 1), bias=False)\n",
              "        (bn2): BatchNorm2d(256, eps=1e-05, momentum=0.1, affine=True, track_running_stats=True)\n",
              "        (conv3): Conv2d(256, 1024, kernel_size=(1, 1), stride=(1, 1), bias=False)\n",
              "        (bn3): BatchNorm2d(1024, eps=1e-05, momentum=0.1, affine=True, track_running_stats=True)\n",
              "        (relu): ReLU(inplace=True)\n",
              "      )\n",
              "      (4): Bottleneck(\n",
              "        (conv1): Conv2d(1024, 256, kernel_size=(1, 1), stride=(1, 1), bias=False)\n",
              "        (bn1): BatchNorm2d(256, eps=1e-05, momentum=0.1, affine=True, track_running_stats=True)\n",
              "        (conv2): Conv2d(256, 256, kernel_size=(3, 3), stride=(1, 1), padding=(1, 1), bias=False)\n",
              "        (bn2): BatchNorm2d(256, eps=1e-05, momentum=0.1, affine=True, track_running_stats=True)\n",
              "        (conv3): Conv2d(256, 1024, kernel_size=(1, 1), stride=(1, 1), bias=False)\n",
              "        (bn3): BatchNorm2d(1024, eps=1e-05, momentum=0.1, affine=True, track_running_stats=True)\n",
              "        (relu): ReLU(inplace=True)\n",
              "      )\n",
              "      (5): Bottleneck(\n",
              "        (conv1): Conv2d(1024, 256, kernel_size=(1, 1), stride=(1, 1), bias=False)\n",
              "        (bn1): BatchNorm2d(256, eps=1e-05, momentum=0.1, affine=True, track_running_stats=True)\n",
              "        (conv2): Conv2d(256, 256, kernel_size=(3, 3), stride=(1, 1), padding=(1, 1), bias=False)\n",
              "        (bn2): BatchNorm2d(256, eps=1e-05, momentum=0.1, affine=True, track_running_stats=True)\n",
              "        (conv3): Conv2d(256, 1024, kernel_size=(1, 1), stride=(1, 1), bias=False)\n",
              "        (bn3): BatchNorm2d(1024, eps=1e-05, momentum=0.1, affine=True, track_running_stats=True)\n",
              "        (relu): ReLU(inplace=True)\n",
              "      )\n",
              "      (6): Bottleneck(\n",
              "        (conv1): Conv2d(1024, 256, kernel_size=(1, 1), stride=(1, 1), bias=False)\n",
              "        (bn1): BatchNorm2d(256, eps=1e-05, momentum=0.1, affine=True, track_running_stats=True)\n",
              "        (conv2): Conv2d(256, 256, kernel_size=(3, 3), stride=(1, 1), padding=(1, 1), bias=False)\n",
              "        (bn2): BatchNorm2d(256, eps=1e-05, momentum=0.1, affine=True, track_running_stats=True)\n",
              "        (conv3): Conv2d(256, 1024, kernel_size=(1, 1), stride=(1, 1), bias=False)\n",
              "        (bn3): BatchNorm2d(1024, eps=1e-05, momentum=0.1, affine=True, track_running_stats=True)\n",
              "        (relu): ReLU(inplace=True)\n",
              "      )\n",
              "      (7): Bottleneck(\n",
              "        (conv1): Conv2d(1024, 256, kernel_size=(1, 1), stride=(1, 1), bias=False)\n",
              "        (bn1): BatchNorm2d(256, eps=1e-05, momentum=0.1, affine=True, track_running_stats=True)\n",
              "        (conv2): Conv2d(256, 256, kernel_size=(3, 3), stride=(1, 1), padding=(1, 1), bias=False)\n",
              "        (bn2): BatchNorm2d(256, eps=1e-05, momentum=0.1, affine=True, track_running_stats=True)\n",
              "        (conv3): Conv2d(256, 1024, kernel_size=(1, 1), stride=(1, 1), bias=False)\n",
              "        (bn3): BatchNorm2d(1024, eps=1e-05, momentum=0.1, affine=True, track_running_stats=True)\n",
              "        (relu): ReLU(inplace=True)\n",
              "      )\n",
              "      (8): Bottleneck(\n",
              "        (conv1): Conv2d(1024, 256, kernel_size=(1, 1), stride=(1, 1), bias=False)\n",
              "        (bn1): BatchNorm2d(256, eps=1e-05, momentum=0.1, affine=True, track_running_stats=True)\n",
              "        (conv2): Conv2d(256, 256, kernel_size=(3, 3), stride=(1, 1), padding=(1, 1), bias=False)\n",
              "        (bn2): BatchNorm2d(256, eps=1e-05, momentum=0.1, affine=True, track_running_stats=True)\n",
              "        (conv3): Conv2d(256, 1024, kernel_size=(1, 1), stride=(1, 1), bias=False)\n",
              "        (bn3): BatchNorm2d(1024, eps=1e-05, momentum=0.1, affine=True, track_running_stats=True)\n",
              "        (relu): ReLU(inplace=True)\n",
              "      )\n",
              "      (9): Bottleneck(\n",
              "        (conv1): Conv2d(1024, 256, kernel_size=(1, 1), stride=(1, 1), bias=False)\n",
              "        (bn1): BatchNorm2d(256, eps=1e-05, momentum=0.1, affine=True, track_running_stats=True)\n",
              "        (conv2): Conv2d(256, 256, kernel_size=(3, 3), stride=(1, 1), padding=(1, 1), bias=False)\n",
              "        (bn2): BatchNorm2d(256, eps=1e-05, momentum=0.1, affine=True, track_running_stats=True)\n",
              "        (conv3): Conv2d(256, 1024, kernel_size=(1, 1), stride=(1, 1), bias=False)\n",
              "        (bn3): BatchNorm2d(1024, eps=1e-05, momentum=0.1, affine=True, track_running_stats=True)\n",
              "        (relu): ReLU(inplace=True)\n",
              "      )\n",
              "      (10): Bottleneck(\n",
              "        (conv1): Conv2d(1024, 256, kernel_size=(1, 1), stride=(1, 1), bias=False)\n",
              "        (bn1): BatchNorm2d(256, eps=1e-05, momentum=0.1, affine=True, track_running_stats=True)\n",
              "        (conv2): Conv2d(256, 256, kernel_size=(3, 3), stride=(1, 1), padding=(1, 1), bias=False)\n",
              "        (bn2): BatchNorm2d(256, eps=1e-05, momentum=0.1, affine=True, track_running_stats=True)\n",
              "        (conv3): Conv2d(256, 1024, kernel_size=(1, 1), stride=(1, 1), bias=False)\n",
              "        (bn3): BatchNorm2d(1024, eps=1e-05, momentum=0.1, affine=True, track_running_stats=True)\n",
              "        (relu): ReLU(inplace=True)\n",
              "      )\n",
              "      (11): Bottleneck(\n",
              "        (conv1): Conv2d(1024, 256, kernel_size=(1, 1), stride=(1, 1), bias=False)\n",
              "        (bn1): BatchNorm2d(256, eps=1e-05, momentum=0.1, affine=True, track_running_stats=True)\n",
              "        (conv2): Conv2d(256, 256, kernel_size=(3, 3), stride=(1, 1), padding=(1, 1), bias=False)\n",
              "        (bn2): BatchNorm2d(256, eps=1e-05, momentum=0.1, affine=True, track_running_stats=True)\n",
              "        (conv3): Conv2d(256, 1024, kernel_size=(1, 1), stride=(1, 1), bias=False)\n",
              "        (bn3): BatchNorm2d(1024, eps=1e-05, momentum=0.1, affine=True, track_running_stats=True)\n",
              "        (relu): ReLU(inplace=True)\n",
              "      )\n",
              "      (12): Bottleneck(\n",
              "        (conv1): Conv2d(1024, 256, kernel_size=(1, 1), stride=(1, 1), bias=False)\n",
              "        (bn1): BatchNorm2d(256, eps=1e-05, momentum=0.1, affine=True, track_running_stats=True)\n",
              "        (conv2): Conv2d(256, 256, kernel_size=(3, 3), stride=(1, 1), padding=(1, 1), bias=False)\n",
              "        (bn2): BatchNorm2d(256, eps=1e-05, momentum=0.1, affine=True, track_running_stats=True)\n",
              "        (conv3): Conv2d(256, 1024, kernel_size=(1, 1), stride=(1, 1), bias=False)\n",
              "        (bn3): BatchNorm2d(1024, eps=1e-05, momentum=0.1, affine=True, track_running_stats=True)\n",
              "        (relu): ReLU(inplace=True)\n",
              "      )\n",
              "      (13): Bottleneck(\n",
              "        (conv1): Conv2d(1024, 256, kernel_size=(1, 1), stride=(1, 1), bias=False)\n",
              "        (bn1): BatchNorm2d(256, eps=1e-05, momentum=0.1, affine=True, track_running_stats=True)\n",
              "        (conv2): Conv2d(256, 256, kernel_size=(3, 3), stride=(1, 1), padding=(1, 1), bias=False)\n",
              "        (bn2): BatchNorm2d(256, eps=1e-05, momentum=0.1, affine=True, track_running_stats=True)\n",
              "        (conv3): Conv2d(256, 1024, kernel_size=(1, 1), stride=(1, 1), bias=False)\n",
              "        (bn3): BatchNorm2d(1024, eps=1e-05, momentum=0.1, affine=True, track_running_stats=True)\n",
              "        (relu): ReLU(inplace=True)\n",
              "      )\n",
              "      (14): Bottleneck(\n",
              "        (conv1): Conv2d(1024, 256, kernel_size=(1, 1), stride=(1, 1), bias=False)\n",
              "        (bn1): BatchNorm2d(256, eps=1e-05, momentum=0.1, affine=True, track_running_stats=True)\n",
              "        (conv2): Conv2d(256, 256, kernel_size=(3, 3), stride=(1, 1), padding=(1, 1), bias=False)\n",
              "        (bn2): BatchNorm2d(256, eps=1e-05, momentum=0.1, affine=True, track_running_stats=True)\n",
              "        (conv3): Conv2d(256, 1024, kernel_size=(1, 1), stride=(1, 1), bias=False)\n",
              "        (bn3): BatchNorm2d(1024, eps=1e-05, momentum=0.1, affine=True, track_running_stats=True)\n",
              "        (relu): ReLU(inplace=True)\n",
              "      )\n",
              "      (15): Bottleneck(\n",
              "        (conv1): Conv2d(1024, 256, kernel_size=(1, 1), stride=(1, 1), bias=False)\n",
              "        (bn1): BatchNorm2d(256, eps=1e-05, momentum=0.1, affine=True, track_running_stats=True)\n",
              "        (conv2): Conv2d(256, 256, kernel_size=(3, 3), stride=(1, 1), padding=(1, 1), bias=False)\n",
              "        (bn2): BatchNorm2d(256, eps=1e-05, momentum=0.1, affine=True, track_running_stats=True)\n",
              "        (conv3): Conv2d(256, 1024, kernel_size=(1, 1), stride=(1, 1), bias=False)\n",
              "        (bn3): BatchNorm2d(1024, eps=1e-05, momentum=0.1, affine=True, track_running_stats=True)\n",
              "        (relu): ReLU(inplace=True)\n",
              "      )\n",
              "      (16): Bottleneck(\n",
              "        (conv1): Conv2d(1024, 256, kernel_size=(1, 1), stride=(1, 1), bias=False)\n",
              "        (bn1): BatchNorm2d(256, eps=1e-05, momentum=0.1, affine=True, track_running_stats=True)\n",
              "        (conv2): Conv2d(256, 256, kernel_size=(3, 3), stride=(1, 1), padding=(1, 1), bias=False)\n",
              "        (bn2): BatchNorm2d(256, eps=1e-05, momentum=0.1, affine=True, track_running_stats=True)\n",
              "        (conv3): Conv2d(256, 1024, kernel_size=(1, 1), stride=(1, 1), bias=False)\n",
              "        (bn3): BatchNorm2d(1024, eps=1e-05, momentum=0.1, affine=True, track_running_stats=True)\n",
              "        (relu): ReLU(inplace=True)\n",
              "      )\n",
              "      (17): Bottleneck(\n",
              "        (conv1): Conv2d(1024, 256, kernel_size=(1, 1), stride=(1, 1), bias=False)\n",
              "        (bn1): BatchNorm2d(256, eps=1e-05, momentum=0.1, affine=True, track_running_stats=True)\n",
              "        (conv2): Conv2d(256, 256, kernel_size=(3, 3), stride=(1, 1), padding=(1, 1), bias=False)\n",
              "        (bn2): BatchNorm2d(256, eps=1e-05, momentum=0.1, affine=True, track_running_stats=True)\n",
              "        (conv3): Conv2d(256, 1024, kernel_size=(1, 1), stride=(1, 1), bias=False)\n",
              "        (bn3): BatchNorm2d(1024, eps=1e-05, momentum=0.1, affine=True, track_running_stats=True)\n",
              "        (relu): ReLU(inplace=True)\n",
              "      )\n",
              "      (18): Bottleneck(\n",
              "        (conv1): Conv2d(1024, 256, kernel_size=(1, 1), stride=(1, 1), bias=False)\n",
              "        (bn1): BatchNorm2d(256, eps=1e-05, momentum=0.1, affine=True, track_running_stats=True)\n",
              "        (conv2): Conv2d(256, 256, kernel_size=(3, 3), stride=(1, 1), padding=(1, 1), bias=False)\n",
              "        (bn2): BatchNorm2d(256, eps=1e-05, momentum=0.1, affine=True, track_running_stats=True)\n",
              "        (conv3): Conv2d(256, 1024, kernel_size=(1, 1), stride=(1, 1), bias=False)\n",
              "        (bn3): BatchNorm2d(1024, eps=1e-05, momentum=0.1, affine=True, track_running_stats=True)\n",
              "        (relu): ReLU(inplace=True)\n",
              "      )\n",
              "      (19): Bottleneck(\n",
              "        (conv1): Conv2d(1024, 256, kernel_size=(1, 1), stride=(1, 1), bias=False)\n",
              "        (bn1): BatchNorm2d(256, eps=1e-05, momentum=0.1, affine=True, track_running_stats=True)\n",
              "        (conv2): Conv2d(256, 256, kernel_size=(3, 3), stride=(1, 1), padding=(1, 1), bias=False)\n",
              "        (bn2): BatchNorm2d(256, eps=1e-05, momentum=0.1, affine=True, track_running_stats=True)\n",
              "        (conv3): Conv2d(256, 1024, kernel_size=(1, 1), stride=(1, 1), bias=False)\n",
              "        (bn3): BatchNorm2d(1024, eps=1e-05, momentum=0.1, affine=True, track_running_stats=True)\n",
              "        (relu): ReLU(inplace=True)\n",
              "      )\n",
              "      (20): Bottleneck(\n",
              "        (conv1): Conv2d(1024, 256, kernel_size=(1, 1), stride=(1, 1), bias=False)\n",
              "        (bn1): BatchNorm2d(256, eps=1e-05, momentum=0.1, affine=True, track_running_stats=True)\n",
              "        (conv2): Conv2d(256, 256, kernel_size=(3, 3), stride=(1, 1), padding=(1, 1), bias=False)\n",
              "        (bn2): BatchNorm2d(256, eps=1e-05, momentum=0.1, affine=True, track_running_stats=True)\n",
              "        (conv3): Conv2d(256, 1024, kernel_size=(1, 1), stride=(1, 1), bias=False)\n",
              "        (bn3): BatchNorm2d(1024, eps=1e-05, momentum=0.1, affine=True, track_running_stats=True)\n",
              "        (relu): ReLU(inplace=True)\n",
              "      )\n",
              "      (21): Bottleneck(\n",
              "        (conv1): Conv2d(1024, 256, kernel_size=(1, 1), stride=(1, 1), bias=False)\n",
              "        (bn1): BatchNorm2d(256, eps=1e-05, momentum=0.1, affine=True, track_running_stats=True)\n",
              "        (conv2): Conv2d(256, 256, kernel_size=(3, 3), stride=(1, 1), padding=(1, 1), bias=False)\n",
              "        (bn2): BatchNorm2d(256, eps=1e-05, momentum=0.1, affine=True, track_running_stats=True)\n",
              "        (conv3): Conv2d(256, 1024, kernel_size=(1, 1), stride=(1, 1), bias=False)\n",
              "        (bn3): BatchNorm2d(1024, eps=1e-05, momentum=0.1, affine=True, track_running_stats=True)\n",
              "        (relu): ReLU(inplace=True)\n",
              "      )\n",
              "      (22): Bottleneck(\n",
              "        (conv1): Conv2d(1024, 256, kernel_size=(1, 1), stride=(1, 1), bias=False)\n",
              "        (bn1): BatchNorm2d(256, eps=1e-05, momentum=0.1, affine=True, track_running_stats=True)\n",
              "        (conv2): Conv2d(256, 256, kernel_size=(3, 3), stride=(1, 1), padding=(1, 1), bias=False)\n",
              "        (bn2): BatchNorm2d(256, eps=1e-05, momentum=0.1, affine=True, track_running_stats=True)\n",
              "        (conv3): Conv2d(256, 1024, kernel_size=(1, 1), stride=(1, 1), bias=False)\n",
              "        (bn3): BatchNorm2d(1024, eps=1e-05, momentum=0.1, affine=True, track_running_stats=True)\n",
              "        (relu): ReLU(inplace=True)\n",
              "      )\n",
              "    )\n",
              "    (7): Sequential(\n",
              "      (0): Bottleneck(\n",
              "        (conv1): Conv2d(1024, 512, kernel_size=(1, 1), stride=(1, 1), bias=False)\n",
              "        (bn1): BatchNorm2d(512, eps=1e-05, momentum=0.1, affine=True, track_running_stats=True)\n",
              "        (conv2): Conv2d(512, 512, kernel_size=(3, 3), stride=(2, 2), padding=(1, 1), bias=False)\n",
              "        (bn2): BatchNorm2d(512, eps=1e-05, momentum=0.1, affine=True, track_running_stats=True)\n",
              "        (conv3): Conv2d(512, 2048, kernel_size=(1, 1), stride=(1, 1), bias=False)\n",
              "        (bn3): BatchNorm2d(2048, eps=1e-05, momentum=0.1, affine=True, track_running_stats=True)\n",
              "        (relu): ReLU(inplace=True)\n",
              "        (downsample): Sequential(\n",
              "          (0): Conv2d(1024, 2048, kernel_size=(1, 1), stride=(2, 2), bias=False)\n",
              "          (1): BatchNorm2d(2048, eps=1e-05, momentum=0.1, affine=True, track_running_stats=True)\n",
              "        )\n",
              "      )\n",
              "      (1): Bottleneck(\n",
              "        (conv1): Conv2d(2048, 512, kernel_size=(1, 1), stride=(1, 1), bias=False)\n",
              "        (bn1): BatchNorm2d(512, eps=1e-05, momentum=0.1, affine=True, track_running_stats=True)\n",
              "        (conv2): Conv2d(512, 512, kernel_size=(3, 3), stride=(1, 1), padding=(1, 1), bias=False)\n",
              "        (bn2): BatchNorm2d(512, eps=1e-05, momentum=0.1, affine=True, track_running_stats=True)\n",
              "        (conv3): Conv2d(512, 2048, kernel_size=(1, 1), stride=(1, 1), bias=False)\n",
              "        (bn3): BatchNorm2d(2048, eps=1e-05, momentum=0.1, affine=True, track_running_stats=True)\n",
              "        (relu): ReLU(inplace=True)\n",
              "      )\n",
              "      (2): Bottleneck(\n",
              "        (conv1): Conv2d(2048, 512, kernel_size=(1, 1), stride=(1, 1), bias=False)\n",
              "        (bn1): BatchNorm2d(512, eps=1e-05, momentum=0.1, affine=True, track_running_stats=True)\n",
              "        (conv2): Conv2d(512, 512, kernel_size=(3, 3), stride=(1, 1), padding=(1, 1), bias=False)\n",
              "        (bn2): BatchNorm2d(512, eps=1e-05, momentum=0.1, affine=True, track_running_stats=True)\n",
              "        (conv3): Conv2d(512, 2048, kernel_size=(1, 1), stride=(1, 1), bias=False)\n",
              "        (bn3): BatchNorm2d(2048, eps=1e-05, momentum=0.1, affine=True, track_running_stats=True)\n",
              "        (relu): ReLU(inplace=True)\n",
              "      )\n",
              "    )\n",
              "  )\n",
              "  (conv5): Conv2d(64, 64, kernel_size=(3, 3), stride=(1, 1), padding=(1, 1))\n",
              "  (norm5): BatchNorm2d(64, eps=1e-05, momentum=0.1, affine=True, track_running_stats=True)\n",
              "  (relu5): ReLU()\n",
              "  (conv6): Conv2d(64, 64, kernel_size=(3, 3), stride=(1, 1), padding=(1, 1))\n",
              "  (norm6): BatchNorm2d(64, eps=1e-05, momentum=0.1, affine=True, track_running_stats=True)\n",
              "  (relu6): ReLU()\n",
              "  (convTrans4): ConvTranspose2d(64, 64, kernel_size=(3, 3), stride=(2, 2), padding=(1, 1), output_padding=(1, 1))\n",
              "  (conv7): Conv2d(64, 32, kernel_size=(3, 3), stride=(1, 1), padding=(1, 1))\n",
              "  (norm7): BatchNorm2d(32, eps=1e-05, momentum=0.1, affine=True, track_running_stats=True)\n",
              "  (relu7): ReLU()\n",
              "  (conv8): Conv2d(32, 32, kernel_size=(3, 3), stride=(1, 1), padding=(1, 1))\n",
              "  (norm8): BatchNorm2d(32, eps=1e-05, momentum=0.1, affine=True, track_running_stats=True)\n",
              "  (relu8): ReLU()\n",
              "  (convTrans5): ConvTranspose2d(32, 32, kernel_size=(3, 3), stride=(2, 2), padding=(1, 1), output_padding=(1, 1))\n",
              "  (conv9): Conv2d(32, 8, kernel_size=(1, 1), stride=(1, 1))\n",
              "  (norm9): BatchNorm2d(8, eps=1e-05, momentum=0.1, affine=True, track_running_stats=True)\n",
              "  (relu9): ReLU()\n",
              "  (conv10): Conv2d(8, 2, kernel_size=(1, 1), stride=(1, 1))\n",
              "  (norm10): BatchNorm2d(2, eps=1e-05, momentum=0.1, affine=True, track_running_stats=True)\n",
              "  (relu10): ReLU()\n",
              ")"
            ]
          },
          "metadata": {},
          "execution_count": 41
        }
      ],
      "source": [
        "model"
      ],
      "id": "FseFwC4_WhES"
    },
    {
      "cell_type": "markdown",
      "metadata": {
        "id": "ROUfYChkXIlg"
      },
      "source": [
        "Train model"
      ],
      "id": "ROUfYChkXIlg"
    },
    {
      "cell_type": "code",
      "execution_count": 34,
      "metadata": {
        "id": "Q_3JJQiLZmTp"
      },
      "outputs": [],
      "source": [
        "batch=20"
      ],
      "id": "Q_3JJQiLZmTp"
    },
    {
      "cell_type": "code",
      "execution_count": 42,
      "metadata": {
        "colab": {
          "base_uri": "https://localhost:8080/"
        },
        "id": "KLpQHw_BYD6g",
        "outputId": "f24d5c90-322c-44dd-93d6-19f7a0d44eee"
      },
      "outputs": [
        {
          "output_type": "stream",
          "name": "stdout",
          "text": [
            "Epoch 1 of 50:\n",
            "Train Loss: 0.5063\n",
            "Val Loss: 0.5035\n",
            "Train IoU: 0.4676\n",
            "Val IoU: 0.4650\n",
            "Epoch 2 of 50:\n",
            "Train Loss: 0.3459\n",
            "Val Loss: 0.5740\n",
            "Train IoU: 0.5994\n",
            "Val IoU: 0.5066\n",
            "Epoch 3 of 50:\n",
            "Train Loss: 0.2769\n",
            "Val Loss: 0.4243\n",
            "Train IoU: 0.6811\n",
            "Val IoU: 0.5432\n",
            "Epoch 4 of 50:\n",
            "Train Loss: 0.2304\n",
            "Val Loss: 0.4618\n",
            "Train IoU: 0.7317\n",
            "Val IoU: 0.5643\n",
            "Epoch 5 of 50:\n",
            "Train Loss: 0.2028\n",
            "Val Loss: 0.2039\n",
            "Train IoU: 0.7596\n",
            "Val IoU: 0.7551\n",
            "Epoch 6 of 50:\n",
            "Train Loss: 0.1753\n",
            "Val Loss: 0.1926\n",
            "Train IoU: 0.7907\n",
            "Val IoU: 0.7744\n",
            "Epoch 7 of 50:\n",
            "Train Loss: 0.1675\n",
            "Val Loss: 0.3426\n",
            "Train IoU: 0.7960\n",
            "Val IoU: 0.6685\n",
            "Epoch 8 of 50:\n",
            "Train Loss: 0.1598\n",
            "Val Loss: 0.2243\n",
            "Train IoU: 0.8045\n",
            "Val IoU: 0.7350\n",
            "Epoch 9 of 50:\n",
            "Train Loss: 0.1540\n",
            "Val Loss: 0.1613\n",
            "Train IoU: 0.8096\n",
            "Val IoU: 0.7883\n",
            "Epoch 10 of 50:\n",
            "Train Loss: 0.1523\n",
            "Val Loss: 0.1595\n",
            "Train IoU: 0.8096\n",
            "Val IoU: 0.8011\n",
            "Model saved.\n",
            "Epoch 11 of 50:\n",
            "Train Loss: 0.1372\n",
            "Val Loss: 0.1748\n",
            "Train IoU: 0.8291\n",
            "Val IoU: 0.7620\n",
            "Epoch 12 of 50:\n",
            "Train Loss: 0.1387\n",
            "Val Loss: 0.1660\n",
            "Train IoU: 0.8269\n",
            "Val IoU: 0.7744\n",
            "Epoch 13 of 50:\n",
            "Train Loss: 0.1351\n",
            "Val Loss: 0.1608\n",
            "Train IoU: 0.8310\n",
            "Val IoU: 0.7813\n",
            "Epoch 14 of 50:\n",
            "Train Loss: 0.1350\n",
            "Val Loss: 0.1353\n",
            "Train IoU: 0.8313\n",
            "Val IoU: 0.8245\n",
            "Model saved.\n",
            "Epoch 15 of 50:\n",
            "Train Loss: 0.1390\n",
            "Val Loss: 1.1114\n",
            "Train IoU: 0.8251\n",
            "Val IoU: 0.4864\n",
            "Epoch 16 of 50:\n",
            "Train Loss: 0.1651\n",
            "Val Loss: 0.1732\n",
            "Train IoU: 0.7921\n",
            "Val IoU: 0.7591\n",
            "Epoch 17 of 50:\n",
            "Train Loss: 0.1398\n",
            "Val Loss: 0.1750\n",
            "Train IoU: 0.8235\n",
            "Val IoU: 0.7727\n",
            "Epoch 18 of 50:\n",
            "Train Loss: 0.1309\n",
            "Val Loss: 0.2004\n",
            "Train IoU: 0.8352\n",
            "Val IoU: 0.7591\n",
            "Epoch 19 of 50:\n",
            "Train Loss: 0.1268\n",
            "Val Loss: 0.1429\n",
            "Train IoU: 0.8398\n",
            "Val IoU: 0.8166\n",
            "Epoch 20 of 50:\n",
            "Train Loss: 0.1225\n",
            "Val Loss: 0.1273\n",
            "Train IoU: 0.8443\n",
            "Val IoU: 0.8295\n",
            "Model saved.\n",
            "Epoch 21 of 50:\n",
            "Train Loss: 0.1227\n",
            "Val Loss: 0.1673\n",
            "Train IoU: 0.8442\n",
            "Val IoU: 0.7831\n",
            "Epoch 22 of 50:\n",
            "Train Loss: 0.1207\n",
            "Val Loss: 0.1915\n",
            "Train IoU: 0.8463\n",
            "Val IoU: 0.7680\n",
            "Epoch 23 of 50:\n",
            "Train Loss: 0.1213\n",
            "Val Loss: 0.1698\n",
            "Train IoU: 0.8456\n",
            "Val IoU: 0.7675\n",
            "Epoch 24 of 50:\n",
            "Train Loss: 0.1193\n",
            "Val Loss: 0.1276\n",
            "Train IoU: 0.8474\n",
            "Val IoU: 0.8308\n",
            "Model saved.\n",
            "Epoch 25 of 50:\n",
            "Train Loss: 0.1224\n",
            "Val Loss: 0.1250\n",
            "Train IoU: 0.8430\n",
            "Val IoU: 0.8432\n",
            "Model saved.\n",
            "Epoch 26 of 50:\n",
            "Train Loss: 0.1179\n",
            "Val Loss: 0.1225\n",
            "Train IoU: 0.8491\n",
            "Val IoU: 0.8420\n",
            "Epoch 27 of 50:\n",
            "Train Loss: 0.1187\n",
            "Val Loss: 0.1259\n",
            "Train IoU: 0.8477\n",
            "Val IoU: 0.8284\n",
            "Epoch 28 of 50:\n",
            "Train Loss: 0.1134\n",
            "Val Loss: 0.1257\n",
            "Train IoU: 0.8545\n",
            "Val IoU: 0.8344\n",
            "Epoch 29 of 50:\n",
            "Train Loss: 0.1137\n",
            "Val Loss: 0.1230\n",
            "Train IoU: 0.8526\n",
            "Val IoU: 0.8355\n",
            "Epoch 30 of 50:\n",
            "Train Loss: 0.1132\n",
            "Val Loss: 0.1165\n",
            "Train IoU: 0.8539\n",
            "Val IoU: 0.8458\n",
            "Model saved.\n",
            "Epoch 31 of 50:\n",
            "Train Loss: 0.1168\n",
            "Val Loss: 0.2255\n",
            "Train IoU: 0.8489\n",
            "Val IoU: 0.7525\n",
            "Epoch 32 of 50:\n",
            "Train Loss: 0.1149\n",
            "Val Loss: 0.1341\n",
            "Train IoU: 0.8515\n",
            "Val IoU: 0.8196\n",
            "Epoch 33 of 50:\n",
            "Train Loss: 0.1112\n",
            "Val Loss: 0.1143\n",
            "Train IoU: 0.8548\n",
            "Val IoU: 0.8434\n",
            "Epoch 34 of 50:\n",
            "Train Loss: 0.1216\n",
            "Val Loss: 0.1388\n",
            "Train IoU: 0.8432\n",
            "Val IoU: 0.8173\n",
            "Epoch 35 of 50:\n",
            "Train Loss: 0.1140\n",
            "Val Loss: 0.1393\n",
            "Train IoU: 0.8529\n",
            "Val IoU: 0.8179\n",
            "Epoch 36 of 50:\n",
            "Train Loss: 0.1127\n",
            "Val Loss: 0.1215\n",
            "Train IoU: 0.8532\n",
            "Val IoU: 0.8414\n",
            "Epoch 37 of 50:\n",
            "Train Loss: 0.1096\n",
            "Val Loss: 0.1384\n",
            "Train IoU: 0.8576\n",
            "Val IoU: 0.8167\n",
            "Epoch 38 of 50:\n",
            "Train Loss: 0.1068\n",
            "Val Loss: 0.1333\n",
            "Train IoU: 0.8603\n",
            "Val IoU: 0.8233\n",
            "Epoch 39 of 50:\n",
            "Train Loss: 0.1058\n",
            "Val Loss: 0.1266\n",
            "Train IoU: 0.8614\n",
            "Val IoU: 0.8366\n",
            "Epoch 40 of 50:\n",
            "Train Loss: 0.1080\n",
            "Val Loss: 0.1143\n",
            "Train IoU: 0.8594\n",
            "Val IoU: 0.8431\n",
            "Epoch 41 of 50:\n",
            "Train Loss: 0.1055\n",
            "Val Loss: 0.1348\n",
            "Train IoU: 0.8626\n",
            "Val IoU: 0.8222\n",
            "Epoch 42 of 50:\n",
            "Train Loss: 0.1052\n",
            "Val Loss: 0.1219\n",
            "Train IoU: 0.8611\n",
            "Val IoU: 0.8348\n",
            "Epoch 43 of 50:\n",
            "Train Loss: 0.1068\n",
            "Val Loss: 0.1264\n",
            "Train IoU: 0.8599\n",
            "Val IoU: 0.8348\n",
            "Epoch 44 of 50:\n",
            "Train Loss: 0.1138\n",
            "Val Loss: 0.1289\n",
            "Train IoU: 0.8520\n",
            "Val IoU: 0.8297\n",
            "Epoch 45 of 50:\n",
            "Train Loss: 0.1096\n",
            "Val Loss: 0.1140\n",
            "Train IoU: 0.8569\n",
            "Val IoU: 0.8439\n",
            "Epoch 46 of 50:\n",
            "Train Loss: 0.1079\n",
            "Val Loss: 0.1299\n",
            "Train IoU: 0.8590\n",
            "Val IoU: 0.8310\n",
            "Epoch 47 of 50:\n",
            "Train Loss: 0.1077\n",
            "Val Loss: 0.1105\n",
            "Train IoU: 0.8588\n",
            "Val IoU: 0.8515\n",
            "Model saved.\n",
            "Epoch 48 of 50:\n",
            "Train Loss: 0.1069\n",
            "Val Loss: 0.1431\n",
            "Train IoU: 0.8592\n",
            "Val IoU: 0.8179\n",
            "Epoch 49 of 50:\n",
            "Train Loss: 0.1047\n",
            "Val Loss: 0.1398\n",
            "Train IoU: 0.8612\n",
            "Val IoU: 0.8091\n",
            "Epoch 50 of 50:\n",
            "Train Loss: 0.1061\n",
            "Val Loss: 0.1099\n",
            "Train IoU: 0.8602\n",
            "Val IoU: 0.8502\n"
          ]
        }
      ],
      "source": [
        "train_loss, val_loss = [], []\n",
        "train_IoU, val_IoU = [], []\n",
        "num_epochs = 50\n",
        "\n",
        "best_val_IoU = 0.8\n",
        "\n",
        "for epoch in range(num_epochs):\n",
        "    print(f\"Epoch {epoch + 1} of {num_epochs}:\")\n",
        "    \n",
        "    # Train model\n",
        "    model.train()\n",
        "    running_loss = 0\n",
        "    total = 0\n",
        "    accumulatedIoU = 0\n",
        "    \n",
        "    for images, _, labels in train_dl:\n",
        "        images = images.to(device)\n",
        "        labels = labels.to(device)\n",
        "        \n",
        "        out = model(images)\n",
        "        loss = criterion(out, labels)\n",
        "        \n",
        "        optim.zero_grad()\n",
        "        loss.backward()\n",
        "        optim.step()\n",
        "        \n",
        "        running_loss += loss.item() * images.size(0)\n",
        "        \n",
        "        predictions = torch.argmax(out, dim=1)\n",
        "        total += labels.size(0)\n",
        "        \n",
        "        iou = calculate_IOU(predictions, labels)\n",
        "        accumulatedIoU += iou.sum().item()\n",
        "    \n",
        "    train_epoch_loss = running_loss / len(train_dl.dataset)\n",
        "    train_epoch_IoU = accumulatedIoU / total\n",
        "    \n",
        "    # Evaluate model\n",
        "    model.eval()\n",
        "    running_loss = 0\n",
        "    total = 0\n",
        "    accumulatedIoU = 0\n",
        "    \n",
        "    with torch.no_grad():\n",
        "        for images, _, labels in valid_dl:\n",
        "            images = images.to(device)\n",
        "            labels = labels.to(device)\n",
        "            \n",
        "            outputs = model(images)\n",
        "            loss = criterion(outputs, labels)\n",
        "            \n",
        "            running_loss += loss.item() * images.size(0)\n",
        "            \n",
        "            predictions = torch.argmax(outputs, dim=1)\n",
        "            total += labels.size(0)\n",
        "\n",
        "            iou = calculate_IOU(predictions, labels)\n",
        "            accumulatedIoU += iou.sum().item()\n",
        "           \n",
        "    val_epoch_loss = running_loss / len(valid_dl.dataset) \n",
        "    val_epoch_IoU = accumulatedIoU / total\n",
        "    \n",
        "    print(\"Train Loss: {:.4f}\".format(train_epoch_loss))\n",
        "    print(\"Val Loss: {:.4f}\".format(val_epoch_loss))\n",
        "    print(\"Train IoU: {:.4f}\".format(train_epoch_IoU))\n",
        "    print(\"Val IoU: {:.4f}\".format(val_epoch_IoU))\n",
        "\n",
        "    # Save the model if the current validation IoU is better than the previous best IoU\n",
        "    if val_epoch_IoU > best_val_IoU:\n",
        "        best_val_IoU = val_epoch_IoU\n",
        "        torch.save(model.state_dict(), 'model.pth')\n",
        "        print(\"Model saved.\")\n",
        "    \n",
        "    # Save results\n",
        "    train_loss.append(train_epoch_loss)\n",
        "    val_loss.append(val_epoch_loss)\n",
        "    train_IoU.append(train_epoch_IoU)\n",
        "    val_IoU.append(val_epoch_IoU)\n"
      ],
      "id": "KLpQHw_BYD6g"
    },
    {
      "cell_type": "markdown",
      "source": [
        "The accuracy on training and validation data"
      ],
      "metadata": {
        "id": "XCOPsqedkTlu"
      },
      "id": "XCOPsqedkTlu"
    },
    {
      "cell_type": "code",
      "source": [
        "plt.plot(val_loss, label='valid_loss')\n",
        "plt.plot(train_loss, label='train_loss')\n",
        "plt.legend()"
      ],
      "metadata": {
        "colab": {
          "base_uri": "https://localhost:8080/",
          "height": 448
        },
        "id": "piv-3d3wkUVY",
        "outputId": "dce9c772-bc13-43fc-c894-1091e6dec9f2"
      },
      "id": "piv-3d3wkUVY",
      "execution_count": 43,
      "outputs": [
        {
          "output_type": "execute_result",
          "data": {
            "text/plain": [
              "<matplotlib.legend.Legend at 0x7f044018d150>"
            ]
          },
          "metadata": {},
          "execution_count": 43
        },
        {
          "output_type": "display_data",
          "data": {
            "text/plain": [
              "<Figure size 640x480 with 1 Axes>"
            ],
            "image/png": "[encoded data removed]"
          },
          "metadata": {}
        }
      ]
    },
    {
      "cell_type": "markdown",
      "source": [
        "The IoU on training and validation data"
      ],
      "metadata": {
        "id": "HcGdapaLkjqW"
      },
      "id": "HcGdapaLkjqW"
    },
    {
      "cell_type": "code",
      "source": [
        "plt.plot(train_IoU, label='train_IoU')\n",
        "plt.plot(val_IoU, label='val_IoU')\n",
        "plt.legend()"
      ],
      "metadata": {
        "colab": {
          "base_uri": "https://localhost:8080/",
          "height": 448
        },
        "id": "4X4y-WdIkm5H",
        "outputId": "ef7350e4-8cce-406b-e63e-4b64a409d09c"
      },
      "id": "4X4y-WdIkm5H",
      "execution_count": 44,
      "outputs": [
        {
          "output_type": "execute_result",
          "data": {
            "text/plain": [
              "<matplotlib.legend.Legend at 0x7f049ec753f0>"
            ]
          },
          "metadata": {},
          "execution_count": 44
        },
        {
          "output_type": "display_data",
          "data": {
            "text/plain": [
              "<Figure size 640x480 with 1 Axes>"
            ],
            "image/png": "[encoded data removed]"
          },
          "metadata": {}
        }
      ]
    },
    {
      "cell_type": "markdown",
      "metadata": {
        "id": "7f63262f"
      },
      "source": [
        "# 3.Evaluate your model using the test images"
      ],
      "id": "7f63262f"
    },
    {
      "cell_type": "code",
      "execution_count": 45,
      "metadata": {
        "id": "687038bb"
      },
      "outputs": [],
      "source": [
        "invTrans = Compose([ Normalize(mean = [ 0., 0., 0. ],\n",
        "                                                     std = [ 1/0.229, 1/0.224, 1/0.225 ]),\n",
        "                                Normalize(mean = [ -0.485, -0.456, -0.406 ],\n",
        "                                                     std = [ 1., 1., 1. ]),\n",
        "                               ])"
      ],
      "id": "687038bb"
    },
    {
      "cell_type": "code",
      "source": [
        "test_data, test_mask, test_labels = import_folder_dataset(root_path = test_data_path, resized_size = img_size)\n",
        "\n",
        "\n",
        "print(\"Dim of Data: \", test_data.shape)\n",
        "print(\"Dim of Mask: \", test_mask.shape)\n",
        "print(\"Dim of Lables: \", test_labels.shape)\n",
        "print(\"Dim of Data: \", test_data.shape)\n",
        "print(\"Dim of Mask: \", test_mask.shape)\n",
        "print(\"Dim of Lables: \", test_labels.shape)"
      ],
      "metadata": {
        "colab": {
          "base_uri": "https://localhost:8080/"
        },
        "id": "vKEpR7W2eg6G",
        "outputId": "17a8fd38-f500-4b70-ef20-c9066a1abc8a"
      },
      "id": "vKEpR7W2eg6G",
      "execution_count": 48,
      "outputs": [
        {
          "output_type": "stream",
          "name": "stdout",
          "text": [
            "Dim of Data:  (200, 256, 256, 3)\n",
            "Dim of Mask:  (200, 256, 256, 3)\n",
            "Dim of Lables:  (200, 256, 256)\n",
            "Dim of Data:  (200, 256, 256, 3)\n",
            "Dim of Mask:  (200, 256, 256, 3)\n",
            "Dim of Lables:  (200, 256, 256)\n"
          ]
        }
      ]
    },
    {
      "cell_type": "code",
      "source": [
        "# Create the dataset object\n",
        "test_Dataset = Data(test_data, test_mask, test_labels, img_transform) \n",
        "\n",
        "\n",
        "print(f'Test len: {len(test_Dataset)}')"
      ],
      "metadata": {
        "colab": {
          "base_uri": "https://localhost:8080/"
        },
        "id": "VMNsUxAM9kZZ",
        "outputId": "7467aa9e-3373-44a4-a8ce-183e2b9d538c"
      },
      "id": "VMNsUxAM9kZZ",
      "execution_count": 58,
      "outputs": [
        {
          "output_type": "stream",
          "name": "stdout",
          "text": [
            "Test len: 200\n"
          ]
        }
      ]
    },
    {
      "cell_type": "code",
      "source": [
        "test_loader = DataLoader(\n",
        "    test_Dataset, \n",
        "    batch_size=1,\n",
        "    shuffle=False\n",
        "    )"
      ],
      "metadata": {
        "id": "nYm0_THp9ooi"
      },
      "id": "nYm0_THp9ooi",
      "execution_count": 50,
      "outputs": []
    },
    {
      "cell_type": "code",
      "source": [
        "clf=SegmentationNet().to(device)"
      ],
      "metadata": {
        "id": "kcOHNmmen8YO"
      },
      "id": "kcOHNmmen8YO",
      "execution_count": 51,
      "outputs": []
    },
    {
      "cell_type": "code",
      "source": [
        "with open('model.pth', 'rb') as f: \n",
        "    clf.load_state_dict(torch.load(f))"
      ],
      "metadata": {
        "id": "eQaS3Ni1oBJZ"
      },
      "id": "eQaS3Ni1oBJZ",
      "execution_count": 52,
      "outputs": []
    },
    {
      "cell_type": "code",
      "source": [
        "mean_IoU, mean_dice, image_list, mask_list, predictions_list = predict(loader = test_loader, \n",
        "                                                                     model = clf, \n",
        "                                                                     inv_transform = invTrans,\n",
        "                                                                     device = device)\n",
        "print(f'Average IoU of the model on the  Test dataset instances: { mean_IoU}')\n",
        "print(f'Average Dice of the model on the  Test dataset instances: {mean_dice}')"
      ],
      "metadata": {
        "colab": {
          "base_uri": "https://localhost:8080/"
        },
        "id": "urMn2Oec9ugR",
        "outputId": "a7dd2449-758d-49fd-f763-9c694d50fb32"
      },
      "id": "urMn2Oec9ugR",
      "execution_count": 56,
      "outputs": [
        {
          "output_type": "stream",
          "name": "stdout",
          "text": [
            "Average IoU of the model on the  Test dataset instances: 0.8645689651370049\n",
            "Average Dice of the model on the  Test dataset instances: 0.9255647987127305\n"
          ]
        }
      ]
    },
    {
      "cell_type": "markdown",
      "metadata": {
        "id": "1b5846bc"
      },
      "source": [
        "# 4. Your IoU score should be higher than 0.8"
      ],
      "id": "1b5846bc"
    },
    {
      "cell_type": "code",
      "execution_count": null,
      "metadata": {
        "id": "3a626823"
      },
      "outputs": [],
      "source": [],
      "id": "3a626823"
    },
    {
      "cell_type": "markdown",
      "metadata": {
        "id": "62f12835"
      },
      "source": [
        "# 5. Write a 2-page report using LaTex and upload your paper to ResearchGate or Arxiv, and put your paper link here.\n"
      ],
      "id": "62f12835"
    },
    {
      "cell_type": "markdown",
      "source": [
        "https://www.researchgate.net/publication/370471146_Lung_Segmentation_of_Chest_X-ray_Images_using_Deep_Learning_and_Neural_Networks_methods"
      ],
      "metadata": {
        "id": "bvWAt8EnSl4z"
      },
      "id": "bvWAt8EnSl4z"
    },
    {
      "cell_type": "markdown",
      "metadata": {
        "id": "ab6ac291"
      },
      "source": [
        "# 6. Grading rubric\n",
        "\n",
        "(1). Code ------- 20 points (you also need to upload your final model as a pt file, and add paper link)\n",
        "\n",
        "(2). Grammer ---- 20 points\n",
        "\n",
        "(3). Introduction & related work --- 10 points\n",
        "\n",
        "(4). Method  ---- 20 points\n",
        "\n",
        "(5). Results ---- 20 points\n",
        "\n",
        "(6). Discussion - 10 points"
      ],
      "id": "ab6ac291"
    },
    {
      "cell_type": "code",
      "execution_count": null,
      "metadata": {
        "id": "5299ea7e"
      },
      "outputs": [],
      "source": [],
      "id": "5299ea7e"
    }
  ],
  "metadata": {
    "accelerator": "GPU",
    "colab": {
      "provenance": [],
      "machine_shape": "hm",
      "gpuType": "V100"
    },
    "gpuClass": "standard",
    "kernelspec": {
      "display_name": "Python 3 (ipykernel)",
      "language": "python",
      "name": "python3"
    },
    "language_info": {
      "codemirror_mode": {
        "name": "ipython",
        "version": 3
      },
      "file_extension": ".py",
      "mimetype": "text/x-python",
      "name": "python",
      "nbconvert_exporter": "python",
      "pygments_lexer": "ipython3",
      "version": "3.9.13"
    }
  },
  "nbformat": 4,
  "nbformat_minor": 5
}